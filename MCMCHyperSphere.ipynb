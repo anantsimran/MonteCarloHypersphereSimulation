{
 "cells": [
  {
   "cell_type": "markdown",
   "metadata": {
    "ExecuteTime": {
     "end_time": "2020-06-12T23:37:08.402767Z",
     "start_time": "2020-06-12T23:37:08.397777Z"
    }
   },
   "source": [
    "# 206T Scientific Computing project: Project “Volume Integration”: Monte Carlo vs. Deterministic Methods"
   ]
  },
  {
   "cell_type": "code",
   "execution_count": 33,
   "metadata": {
    "ExecuteTime": {
     "end_time": "2020-06-12T23:37:08.402767Z",
     "start_time": "2020-06-12T23:37:08.397777Z"
    }
   },
   "outputs": [],
   "source": [
    "\"\"\"\n",
    "\n",
    "Configuration for running the below written program.\n",
    "\n",
    "maxNConteCarlo: Set this to the maximum dimension you want to run monteCarlo Simulations in. \n",
    "For higher dim, the program will take a lot of time to complete for a specified accuracy even though it will eventually.\n",
    "\n",
    "cubeIntegrationMaxSeconds: Maximum time that the cube based iteration can take for a given k.\n",
    "\n",
    "part2maxDim: In part2 of this project, The maximum number of dimensions that you want to run simulation for 10^6 points.\n",
    "\"\"\"\n",
    "class config():\n",
    "    maxNConteCarlo= 8\n",
    "    cubeIntegrationMaxSeconds = 200\n",
    "    part2maxDim=8"
   ]
  },
  {
   "cell_type": "code",
   "execution_count": 2,
   "metadata": {
    "ExecuteTime": {
     "end_time": "2020-06-12T15:47:53.548054Z",
     "start_time": "2020-06-12T15:47:53.536091Z"
    }
   },
   "outputs": [
    {
     "data": {
      "text/html": [
       "<style>.container { width:100% !important; }</style>"
      ],
      "text/plain": [
       "<IPython.core.display.HTML object>"
      ]
     },
     "metadata": {},
     "output_type": "display_data"
    }
   ],
   "source": [
    "from IPython.core.display import display, HTML\n",
    "display(HTML(\"<style>.container { width:100% !important; }</style>\"))"
   ]
  },
  {
   "cell_type": "code",
   "execution_count": 3,
   "metadata": {
    "ExecuteTime": {
     "end_time": "2020-06-12T15:47:55.505399Z",
     "start_time": "2020-06-12T15:47:53.550052Z"
    }
   },
   "outputs": [],
   "source": [
    "import numpy as np\n",
    "import timeit"
   ]
  },
  {
   "cell_type": "code",
   "execution_count": 4,
   "metadata": {
    "ExecuteTime": {
     "end_time": "2020-06-12T15:47:55.511386Z",
     "start_time": "2020-06-12T15:47:55.506396Z"
    }
   },
   "outputs": [],
   "source": [
    "# For 95% of confidence interval\n",
    "def clt(dist):\n",
    "    x= np.mean(dist)\n",
    "    return x, (2 * np.sqrt(np.var(dist) / dist.shape[0]))/x"
   ]
  },
  {
   "cell_type": "code",
   "execution_count": 5,
   "metadata": {
    "ExecuteTime": {
     "end_time": "2020-06-12T15:47:55.517368Z",
     "start_time": "2020-06-12T15:47:55.512383Z"
    }
   },
   "outputs": [],
   "source": [
    "def getPoints(shape):\n",
    "    return np.random.uniform(low=-1.0,high =1.0,size=shape)"
   ]
  },
  {
   "cell_type": "markdown",
   "metadata": {
    "ExecuteTime": {
     "end_time": "2020-06-08T01:44:06.262412Z",
     "start_time": "2020-06-08T01:44:06.258421Z"
    }
   },
   "source": [
    "### 1 : Monte Carlo Method "
   ]
  },
  {
   "cell_type": "code",
   "execution_count": 6,
   "metadata": {
    "ExecuteTime": {
     "end_time": "2020-06-12T15:47:55.533325Z",
     "start_time": "2020-06-12T15:47:55.523354Z"
    }
   },
   "outputs": [],
   "source": [
    "\"\"\"\n",
    "Input : Dim: Number of dimensions to run monte carlo on.\n",
    "acc: the maximum relative error you can permit\n",
    "maxBatches: MaxBatches to run the code (other wise it can take a long time)\n",
    "\n",
    "Batches are stacked together to compute variance and mean\n",
    "\n",
    "For each batch run, we save the corresponding mean of Answer, accuracy and time elapsed till now. \n",
    "\"\"\"\n",
    "\n",
    "\n",
    "def monteCarloPushAccuracy(dim,acc, batchSize=15, maxBatches=10000):\n",
    "    print(\"Dimension:\"+ str(dim))\n",
    "    n = 5000000\n",
    "    currentAcc = 100\n",
    "    dist = np.zeros((0))\n",
    "    batchNumber = 1\n",
    "    v = 2**dim\n",
    "    meanArr = []\n",
    "    accArr = []\n",
    "    timeElapse=[]\n",
    "    start_time = timeit.default_timer()\n",
    "    while currentAcc>acc and batchNumber<maxBatches:\n",
    "        points = getPoints((batchSize, n, dim))\n",
    "        points = (np.count_nonzero(np.sum(np.multiply(points,points), axis=2) <=1.0, axis =1))*(v/n)\n",
    "        dist = np.hstack((dist, points))\n",
    "        currentMean, currentAcc = clt(dist)\n",
    "        elapsed = timeit.default_timer()- start_time\n",
    "        batchNumber = batchNumber+1\n",
    "        meanArr.append(currentMean)\n",
    "        accArr.append(currentAcc)\n",
    "        timeElapse.append(elapsed)\n",
    "    return (meanArr,accArr,timeElapse)\n"
   ]
  },
  {
   "cell_type": "markdown",
   "metadata": {
    "ExecuteTime": {
     "start_time": "2020-06-12T09:26:38.286Z"
    }
   },
   "source": [
    "### 2. Cube Based Integration"
   ]
  },
  {
   "cell_type": "code",
   "execution_count": 7,
   "metadata": {
    "ExecuteTime": {
     "end_time": "2020-06-12T15:47:55.551279Z",
     "start_time": "2020-06-12T15:47:55.538313Z"
    }
   },
   "outputs": [],
   "source": [
    "from collections import deque \n",
    "\n",
    "\n",
    "def generateNewPoints(point, k, delta):\n",
    "    points =[]\n",
    "    for i in range(len(point)):\n",
    "        newPoint = list(point)\n",
    "        if newPoint[i]<(1-(delta/2)):\n",
    "            newPoint[i] = newPoint[i]+delta\n",
    "            points.append(newPoint)\n",
    "    return points\n",
    "\n",
    "def getAllPoints(point, startDim, delta, npPoints):\n",
    "    dim = len(point)\n",
    "    newPoint1 = point[:]\n",
    "    newPoint1[startDim]= newPoint1[startDim]+(delta/2)\n",
    "    newPoint2 = point[:]\n",
    "    newPoint2[startDim]= newPoint2[startDim]-(delta/2)\n",
    "    if(startDim==dim-1):\n",
    "        npPoints.append(newPoint1)\n",
    "        npPoints.append(newPoint2)\n",
    "        return\n",
    "    getAllPoints(newPoint1,startDim+1,delta,npPoints)       \n",
    "    getAllPoints(newPoint2,startDim+1,delta,npPoints)       \n",
    "           \n",
    "def checkStatusOfPoint(point,delta):\n",
    "    npPoints=[]\n",
    "    getAllPoints(point,0,delta,npPoints)\n",
    "    npPoints = np.asarray(npPoints)\n",
    "    npSum = np.count_nonzero(np.sum(np.multiply(npPoints,npPoints),axis=1)<=1)\n",
    "    if(npSum==0):\n",
    "        return 0\n",
    "    if(npSum<len(npPoints)):\n",
    "        return 1\n",
    "    return 2\n",
    "\n",
    "def checkAndInsert(point, pointSet):\n",
    "    pointStr = \",\".join([str(x) for x in point])\n",
    "    if pointStr in pointSet:\n",
    "        return False\n",
    "    pointSet.add(pointStr)\n",
    "    return True\n",
    "    \n",
    "def dfs(point,pointSet, trackList, k , delta, endTime):\n",
    "    stack =deque()\n",
    "    stack.append(point)\n",
    "    while len(stack)>0:\n",
    "        point = stack[-1]\n",
    "        stack.pop()\n",
    "        if(timeit.default_timer()>endTime):\n",
    "            raise SystemError(\"Time got over\") \n",
    "        status = checkStatusOfPoint(point,delta)\n",
    "        trackList[status]= trackList[status]+1\n",
    "        for neighour in generateNewPoints(point,k, delta):\n",
    "            if(checkAndInsert(neighour, pointSet)==False):\n",
    "                continue\n",
    "            stack.append(neighour)\n",
    "    "
   ]
  },
  {
   "cell_type": "code",
   "execution_count": 19,
   "metadata": {
    "ExecuteTime": {
     "end_time": "2020-06-12T21:45:20.219461Z",
     "start_time": "2020-06-12T21:45:20.214472Z"
    }
   },
   "outputs": [],
   "source": [
    "\"\"\"\n",
    "Input : \n",
    "k : the number of segments to break the cube\n",
    "dim: Number of dimensions to run the code\n",
    "endTime: System periodically checks if current time is greater than endTime. If yes, raises an exception.\n",
    "\n",
    "returns mean, acc for a particular k\n",
    "\"\"\"\n",
    "def cubeBasedIntegrationForK(k, dim, endTime): \n",
    "    pointSet = set()\n",
    "    trackList = [0]*3\n",
    "    delta = 2/float(k)\n",
    "    point = [-1+delta/2]*dim\n",
    "    checkAndInsert(point,pointSet)\n",
    "    dfs(point,pointSet,trackList,k,delta,endTime)\n",
    "    cubeVolume = (2/k)**dim\n",
    "    vInside = trackList[2]*cubeVolume\n",
    "    vPartial = vInside+ trackList[1]*cubeVolume\n",
    "    mean = (vPartial+vInside)/2\n",
    "    acc = (vPartial-vInside)/mean\n",
    "    return mean, acc"
   ]
  },
  {
   "cell_type": "code",
   "execution_count": 9,
   "metadata": {
    "ExecuteTime": {
     "end_time": "2020-06-12T15:47:55.572233Z",
     "start_time": "2020-06-12T15:47:55.564243Z"
    }
   },
   "outputs": [],
   "source": [
    "\"\"\"\n",
    "Input :\n",
    "dim: the number of dimensions to run on\n",
    "acc: required accuracy.\n",
    "maxSeconds: Maximum time to run the simulation ( in seconds)\n",
    "\n",
    "Starts from k=2 and doubles k at each iteration until we reach desired accuracy or simulation is not able to run in specified time. \n",
    "\n",
    "\"\"\"\n",
    "def cubeBasedIntegration(dim, acc, maxSeconds):\n",
    "    k =2\n",
    "    currentAcc =1000\n",
    "    while(currentAcc>acc):\n",
    "        try:\n",
    "            endTime = timeit.default_timer()+maxSeconds\n",
    "            mean, currentAcc = cubeBasedIntegrationForK(k, dim, endTime)\n",
    "            print(k, dim, mean, currentAcc)\n",
    "            k=k*2\n",
    "        except Exception:\n",
    "            return k,mean,currentAcc\n",
    "    return k, mean, currentAcc"
   ]
  },
  {
   "cell_type": "code",
   "execution_count": 10,
   "metadata": {
    "ExecuteTime": {
     "end_time": "2020-06-12T18:08:16.066450Z",
     "start_time": "2020-06-12T15:47:55.575214Z"
    }
   },
   "outputs": [
    {
     "name": "stdout",
     "output_type": "stream",
     "text": [
      "Dimension:2\n",
      "Dimension:3\n",
      "Dimension:4\n",
      "Dimension:5\n",
      "Dimension:6\n",
      "Dimension:7\n",
      "Dimension:8\n"
     ]
    }
   ],
   "source": [
    "meanArrHA = []\n",
    "accArrHA = []\n",
    "timeElapseHA=[]\n",
    "\n",
    "for i in range(2,config.maxNConteCarlo+1):\n",
    "    meanArr,accArr,timeElapse = monteCarloPushAccuracy(i,1/10000)\n",
    "    meanArrHA.append(meanArr)\n",
    "    accArrHA.append(accArr)\n",
    "    timeElapseHA.append(timeElapse)\n",
    "    "
   ]
  },
  {
   "cell_type": "code",
   "execution_count": 11,
   "metadata": {
    "ExecuteTime": {
     "end_time": "2020-06-12T18:10:59.367091Z",
     "start_time": "2020-06-12T18:08:16.102363Z"
    }
   },
   "outputs": [
    {
     "name": "stdout",
     "output_type": "stream",
     "text": [
      "Dimension:2\n",
      "Dimension:3\n",
      "Dimension:4\n",
      "Dimension:5\n",
      "Dimension:6\n",
      "Dimension:7\n",
      "Dimension:8\n"
     ]
    }
   ],
   "source": [
    "meanArrLA = []\n",
    "accArrLA = []\n",
    "timeElapseLA=[]\n",
    "\n",
    "for i in range(2,config.maxNConteCarlo+1):\n",
    "    meanArr,accArr,timeElapse = monteCarloPushAccuracy(i,1/1000)\n",
    "    meanArrLA.append(meanArr)\n",
    "    accArrLA.append(accArr)\n",
    "    timeElapseLA.append(timeElapse)\n",
    "    "
   ]
  },
  {
   "cell_type": "code",
   "execution_count": 45,
   "metadata": {
    "ExecuteTime": {
     "end_time": "2020-06-12T23:51:22.750386Z",
     "start_time": "2020-06-12T23:51:22.448169Z"
    }
   },
   "outputs": [
    {
     "data": {
      "image/png": "[encoded data removed]",
      "text/plain": [
       "<Figure size 432x288 with 1 Axes>"
      ]
     },
     "metadata": {
      "needs_background": "light"
     },
     "output_type": "display_data"
    },
    {
     "data": {
      "image/png": "[encoded data removed]",
      "text/plain": [
       "<Figure size 432x288 with 1 Axes>"
      ]
     },
     "metadata": {
      "needs_background": "light"
     },
     "output_type": "display_data"
    }
   ],
   "source": [
    "from matplotlib import pyplot as plt\n",
    "\n",
    "plt.title(\" Time taken for 10^-4 Acc\")\n",
    "plt.plot(list(range(2, config.maxNConteCarlo+1)),[x[-1] for x in timeElapseHA] );\n",
    "plt.xlabel(\"Dimension\")\n",
    "plt.ylabel(\"Time taken to get the required accuracy (in seconds)\")\n",
    "plt.show()\n",
    "\n",
    "plt.title(\"Accuracy change with time for 10^-4 acc\")\n",
    "\n",
    "for i in range(2, config.maxNConteCarlo+1):\n",
    "    plt.plot(timeElapseHA[i-2],accArrHA[i-2]);\n",
    "\n",
    "plt.xlabel(\"Time taken (in seconds)\")\n",
    "plt.ylabel(\"Accuracy\")\n",
    "plt.legend(['dim='+str(x) for x in list(range(2, config.maxNConteCarlo+1))])\n",
    "plt.show()"
   ]
  },
  {
   "cell_type": "code",
   "execution_count": 13,
   "metadata": {
    "ExecuteTime": {
     "end_time": "2020-06-12T18:11:01.568433Z",
     "start_time": "2020-06-12T18:11:01.056761Z"
    }
   },
   "outputs": [
    {
     "data": {
      "image/png": "[encoded data removed]",
      "text/plain": [
       "<Figure size 432x288 with 1 Axes>"
      ]
     },
     "metadata": {
      "needs_background": "light"
     },
     "output_type": "display_data"
    },
    {
     "data": {
      "image/png": "[encoded data removed]",
      "text/plain": [
       "<Figure size 432x288 with 1 Axes>"
      ]
     },
     "metadata": {
      "needs_background": "light"
     },
     "output_type": "display_data"
    }
   ],
   "source": [
    "from matplotlib import pyplot as plt\n",
    "\n",
    "plt.title(\" Time taken for 10^-3 Acc\")\n",
    "plt.plot(list(range(2, config.maxNConteCarlo+1)),[x[-1] for x in timeElapseLA] \n",
    "plt.xlabel(\"Dimension\")\n",
    "plt.ylabel(\"Time taken to get the required accuracy (in seconds)\")     \n",
    "plt.show()\n",
    "\n",
    "plt.title(\"Accuracy change with time for 10^-3 acc\")\n",
    "\n",
    "for i in range(2, config.maxNConteCarlo+1):\n",
    "    plt.plot(timeElapseLA[i-2],accArrLA[i-2]);\n",
    "\n",
    "plt.xlabel(\"Time taken (in seconds)\")\n",
    "plt.ylabel(\"Accuracy\")         \n",
    "plt.legend(['dim='+str(x) for x in list(range(2, config.maxNConteCarlo+1))])\n",
    "plt.show()"
   ]
  },
  {
   "cell_type": "markdown",
   "metadata": {
    "ExecuteTime": {
     "end_time": "2020-06-12T21:36:39.121700Z",
     "start_time": "2020-06-12T21:36:39.118677Z"
    }
   },
   "source": [
    "A note on the above graph : We observe that the second graoh mostly contains straight lines and points. This can also be observed from the graph for $10^{-4}$ accuracy. The points here are too less and hence we see the curve like this."
   ]
  },
  {
   "cell_type": "code",
   "execution_count": 48,
   "metadata": {
    "ExecuteTime": {
     "end_time": "2020-06-12T23:58:18.803791Z",
     "start_time": "2020-06-12T23:58:18.796848Z"
    }
   },
   "outputs": [
    {
     "name": "stdout",
     "output_type": "stream",
     "text": [
      "Volume of hypersphere for dim in 4 digits precision with 95% confidence interval 2  :  3.1413326400000003\n",
      "Volume of hypersphere for dim in 4 digits precision with 95% confidence interval 3  :  4.188514538666666\n",
      "Volume of hypersphere for dim in 4 digits precision with 95% confidence interval 4  :  4.934750982564102\n",
      "Volume of hypersphere for dim in 4 digits precision with 95% confidence interval 5  :  5.26394423908046\n",
      "Volume of hypersphere for dim in 4 digits precision with 95% confidence interval 6  :  5.167404927999999\n",
      "Volume of hypersphere for dim in 4 digits precision with 95% confidence interval 7  :  4.724776489195403\n",
      "Volume of hypersphere for dim in 4 digits precision with 95% confidence interval 8  :  4.058653682512664\n"
     ]
    }
   ],
   "source": [
    "for dim in range(2, config.maxNConteCarlo+1):\n",
    "    print(\"Volume of hypersphere for dim in 4 digits precision with 95% confidence interval \"+str(dim),\" : \",meanArrHA[dim-2][-1] )"
   ]
  },
  {
   "cell_type": "markdown",
   "metadata": {
    "ExecuteTime": {
     "start_time": "2020-06-12T11:28:04.374Z"
    }
   },
   "source": [
    "#### We see that these are very close to values found in wikipedia for the answers"
   ]
  },
  {
   "cell_type": "code",
   "execution_count": 20,
   "metadata": {
    "ExecuteTime": {
     "end_time": "2020-06-12T22:44:34.021500Z",
     "start_time": "2020-06-12T21:45:28.536250Z"
    }
   },
   "outputs": [
    {
     "name": "stdout",
     "output_type": "stream",
     "text": [
      "2 2 2.0 2.0\n",
      "4 2 2.5 1.2\n",
      "8 2 2.875 0.6086956521739131\n",
      "16 2 3.03125 0.30927835051546393\n",
      "32 2 3.1015625 0.1561712846347607\n",
      "64 2 3.130859375 0.07860262008733625\n",
      "128 2 3.13720703125 0.03953307392996109\n",
      "256 2 3.1390380859375 0.01983278242271048\n",
      "512 2 3.141143798828125 0.009929174479495574\n",
      "1024 2 3.1412887573242188 0.004969215636270902\n",
      "2048 2 3.1414928436279297 0.0024856607006357436\n",
      "2 3 4.0 2.0\n",
      "4 3 4.5 1.5555555555555556\n",
      "8 3 4.25 1.0\n",
      "16 3 4.1953125 0.5400372439478585\n",
      "32 3 4.1904296875 0.27732463295269166\n",
      "64 3 4.1884765625 0.14012590347400328\n",
      "128 3 4.1896514892578125 0.0701962683876419\n",
      "2 4 8.0 2.0\n",
      "4 4 8.5 1.7647058823529411\n",
      "8 4 6.03125 1.3367875647668395\n",
      "16 4 5.208984375 0.7941507311586051\n",
      "32 4 5.0120849609375 0.4165225650892618\n",
      "2 5 16.0 2.0\n",
      "4 5 15.5 2.0\n",
      "8 5 8.25 1.6136363636363635\n",
      "16 5 6.0263671875 1.0413223140495869\n",
      "2 6 32.0 2.0\n",
      "4 6 28.5 2.0\n",
      "8 6 10.6328125 1.8589272593681117\n",
      "2 7 64.0 2.0\n",
      "4 7 49.5 2.0\n",
      "8 7 13.4921875 1.9177764910248987\n",
      "2 8 128.0 2.0\n",
      "4 8 81.5 2.0\n"
     ]
    }
   ],
   "source": [
    "arrK=[]\n",
    "arrMean=[]\n",
    "arrAcc=[]\n",
    "\n",
    "for dim in range(2, config.maxNConteCarlo+1):\n",
    "    k,mean,acc = cubeBasedIntegration(dim,1/10000, config.cubeIntegrationMaxSeconds)\n",
    "    arrK.append(k)\n",
    "    arrMean.append(mean)\n",
    "    arrAcc.append(acc)"
   ]
  },
  {
   "cell_type": "code",
   "execution_count": 57,
   "metadata": {
    "ExecuteTime": {
     "end_time": "2020-06-13T00:14:14.598561Z",
     "start_time": "2020-06-13T00:14:14.590614Z"
    }
   },
   "outputs": [
    {
     "name": "stdout",
     "output_type": "stream",
     "text": [
      "Volume of hypersphere in cubeBasedIntegration computed in given time: 2  :  3.1414928436279297\n",
      "Volume of hypersphere in cubeBasedIntegration computed in given time: 3  :  4.1896514892578125\n",
      "Volume of hypersphere in cubeBasedIntegration computed in given time: 4  :  5.0120849609375\n",
      "Volume of hypersphere in cubeBasedIntegration computed in given time: 5  :  6.0263671875\n",
      "Volume of hypersphere in cubeBasedIntegration computed in given time: 6  :  10.6328125\n",
      "Volume of hypersphere in cubeBasedIntegration computed in given time: 7  :  13.4921875\n",
      "Volume of hypersphere in cubeBasedIntegration computed in given time: 8  :  81.5\n"
     ]
    }
   ],
   "source": [
    "for dim in range(2, config.maxNConteCarlo+1):\n",
    "    print(\"Volume of hypersphere in cubeBasedIntegration computed in given time: \"+str(dim),\" : \",arrMean[dim-2] )"
   ]
  },
  {
   "cell_type": "code",
   "execution_count": 53,
   "metadata": {
    "ExecuteTime": {
     "end_time": "2020-06-13T00:04:35.051100Z",
     "start_time": "2020-06-13T00:04:34.704129Z"
    }
   },
   "outputs": [
    {
     "data": {
      "image/png": "[encoded data removed]",
      "text/plain": [
       "<Figure size 432x288 with 1 Axes>"
      ]
     },
     "metadata": {
      "needs_background": "light"
     },
     "output_type": "display_data"
    },
    {
     "data": {
      "image/png": "[encoded data removed]",
      "text/plain": [
       "<Figure size 432x288 with 1 Axes>"
      ]
     },
     "metadata": {
      "needs_background": "light"
     },
     "output_type": "display_data"
    }
   ],
   "source": [
    "from matplotlib import pyplot as plt\n",
    "arrK = np.asarray(arrK)/2\n",
    "plt.title(\"Maximum value of k in given time\")\n",
    "plt.semilogy(list(range(2, config.maxNConteCarlo+1)),arrK );\n",
    "plt.xlabel(\"Dimension\")\n",
    "plt.ylabel(\"log(K)\")\n",
    "plt.show()\n",
    "\n",
    "\n",
    "plt.title(\"Mean Accuracy k in given time\")\n",
    "plt.plot(list(range(2, config.maxNConteCarlo+1)),arrAcc );\n",
    "plt.xlabel(\"Dimension\")\n",
    "plt.ylabel(\"Accuracy\")\n",
    "plt.show()"
   ]
  },
  {
   "cell_type": "markdown",
   "metadata": {
    "ExecuteTime": {
     "end_time": "2020-06-11T09:01:01.613484Z",
     "start_time": "2020-06-11T08:53:38.927519Z"
    }
   },
   "source": [
    "We observe that the better method here is monteCarlo since the cube based integration method does not scale.    \n",
    "\n",
    "We compare the runtimes of $10^{-3}$ and $10^{-4}$ accuracy and see that runtime would not scale for higher dimensions for $10^{-8}$ accuracy.   \n",
    "In the second graph of how accuracy changes with time for higher dimension, we see that the rate of change becomes very less by the time it reaches $10^{-4}$ accuracy.\n"
   ]
  },
  {
   "cell_type": "markdown",
   "metadata": {
    "ExecuteTime": {
     "end_time": "2020-06-12T23:48:15.463021Z",
     "start_time": "2020-06-12T23:48:15.458064Z"
    }
   },
   "source": [
    "## Part 2: Comparing values of cubeBased and monteCarlo for $10^6$ points"
   ]
  },
  {
   "cell_type": "code",
   "execution_count": 54,
   "metadata": {
    "ExecuteTime": {
     "end_time": "2020-06-13T00:06:51.421172Z",
     "start_time": "2020-06-13T00:06:51.416197Z"
    }
   },
   "outputs": [],
   "source": [
    "\"\"\"\n",
    "Naive implementation of Monte Carlo\n",
    "\"\"\"\n",
    "\n",
    "def monteCarloBare(n, dim, m=50):\n",
    "    k  = n/m\n",
    "    dist = np.zeros(m)\n",
    "    cubeVolume = 2**dim\n",
    "    for i in range(m):\n",
    "        points = getPoints((int(k),dim))\n",
    "        s = np.count_nonzero(np.sum( np.multiply(points,points), axis =1)<=1.0)\n",
    "        dist[i]= s*cubeVolume/k\n",
    "    return clt(dist)"
   ]
  },
  {
   "cell_type": "code",
   "execution_count": null,
   "metadata": {
    "ExecuteTime": {
     "end_time": "2020-06-13T00:13:56.594144Z",
     "start_time": "2020-06-13T00:06:51.609036Z"
    }
   },
   "outputs": [],
   "source": [
    "n = 1000000\n",
    "monteCarloMean=[]\n",
    "monteCarloAcc=[]\n",
    "cubeBasedMean=[]\n",
    "cubeBasedAcc=[]\n",
    "\n",
    "\n",
    "for i in range(2,config.part2maxDim+1):\n",
    "    mean,acc = monteCarloBare(n,i)\n",
    "    monteCarloMean.append(mean)\n",
    "    monteCarloAcc.append(acc)\n",
    "    \n",
    "    mean,acc = cubeBasedIntegrationForK(n**(1/i),i,timeit.default_timer()+ 10*config.cubeIntegrationMaxSeconds)\n",
    "    cubeBasedMean.append(mean)\n",
    "    cubeBasedAcc.append(acc)\n",
    "\n",
    "    "
   ]
  },
  {
   "cell_type": "code",
   "execution_count": 24,
   "metadata": {
    "ExecuteTime": {
     "end_time": "2020-06-12T23:13:37.913078Z",
     "start_time": "2020-06-12T23:13:37.908092Z"
    }
   },
   "outputs": [
    {
     "name": "stdout",
     "output_type": "stream",
     "text": [
      "monteCarloMean: [3.1400639999999997, 4.195016, 4.951232, 5.281663999999999, 5.180928, 4.715776, 4.061184]\n",
      "monteCarloAcc: [0.0010477069624190496, 0.0016430031500015404, 0.0031215999298879636, 0.005041125725453177, 0.00734844285146019, 0.010427511505036185, 0.014899978828768328]\n",
      "cubeBasedMean: [3.141312, 4.187856000000004, 5.010319999999999, 5.923743999999997, 7.88892800000001, 13.949184000000008, 27.67999999999998]\n",
      "cubeBasedAcc: [0.005088319784854226, 0.08973756499745927, 0.42347155471107634, 1.0691724693031974, 1.6960682110421086, 1.9505221237313952, 1.9981317919075146]\n"
     ]
    }
   ],
   "source": [
    "print(\"monteCarloMean:\",monteCarloMean)\n",
    "print(\"monteCarloAcc:\",monteCarloAcc)\n",
    "print(\"cubeBasedMean:\",cubeBasedMean)\n",
    "print(\"cubeBasedAcc:\",cubeBasedAcc)"
   ]
  },
  {
   "cell_type": "code",
   "execution_count": 25,
   "metadata": {
    "ExecuteTime": {
     "end_time": "2020-06-12T23:13:42.829769Z",
     "start_time": "2020-06-12T23:13:42.585437Z"
    }
   },
   "outputs": [
    {
     "data": {
      "image/png": "[encoded data removed]",
      "text/plain": [
       "<Figure size 432x288 with 1 Axes>"
      ]
     },
     "metadata": {
      "needs_background": "light"
     },
     "output_type": "display_data"
    },
    {
     "data": {
      "image/png": "[encoded data removed]",
      "text/plain": [
       "<Figure size 432x288 with 1 Axes>"
      ]
     },
     "metadata": {
      "needs_background": "light"
     },
     "output_type": "display_data"
    }
   ],
   "source": [
    "from matplotlib import pyplot as plt\n",
    "\n",
    "plt.title(\"Difference between MonteCarloMean and CubeBasedMean\")\n",
    "plt.plot(list(range(2, config.part2maxDim+1)),np.asarray(monteCarloMean)-np.asarray(cubeBasedMean) );\n",
    "plt.show()\n",
    "\n",
    "\n",
    "plt.title(\"Difference between MonteCarloAcc and CubeBasedAcc\")\n",
    "plt.plot(list(range(2, config.part2maxDim+1)),monteCarloAcc );\n",
    "plt.plot(list(range(2, config.part2maxDim+1)),cubeBasedAcc );\n",
    "plt.legend(['monteCarloAcc','cubeBasedAcc'])\n",
    "\n",
    "\n",
    "plt.show()"
   ]
  },
  {
   "cell_type": "markdown",
   "metadata": {},
   "source": [
    "Monte Carlo Method is definitely giving us better answers here.     \n",
    "we are taking mean of vPartial and Vinside to calculate voume(where vPartial contains points partly inside the sphere as well as the points fully inside it).Thus we are assuming that half of the partial points are inside the sphere.\n",
    "A better approach would probably be weighted average where depending on the number of points inside the cube, we decide how much of cube is inside the sphere. "
   ]
  },
  {
   "cell_type": "markdown",
   "metadata": {},
   "source": [
    "### Part 3 : Calculating $\\pi$ for $10^9$ points"
   ]
  },
  {
   "cell_type": "code",
   "execution_count": 40,
   "metadata": {
    "ExecuteTime": {
     "end_time": "2020-06-12T23:49:12.892490Z",
     "start_time": "2020-06-12T23:48:21.182423Z"
    }
   },
   "outputs": [],
   "source": [
    "pie,acc = monteCarloBare(10**9,2,70)"
   ]
  },
  {
   "cell_type": "code",
   "execution_count": 41,
   "metadata": {
    "ExecuteTime": {
     "end_time": "2020-06-12T23:49:50.451243Z",
     "start_time": "2020-06-12T23:49:50.446288Z"
    }
   },
   "outputs": [
    {
     "name": "stdout",
     "output_type": "stream",
     "text": [
      "3.141621764 2.9513388614575666e-05\n"
     ]
    }
   ],
   "source": [
    "print(pie,acc)"
   ]
  },
  {
   "cell_type": "markdown",
   "metadata": {
    "ExecuteTime": {
     "end_time": "2020-06-12T23:27:17.074633Z",
     "start_time": "2020-06-12T23:27:17.066678Z"
    }
   },
   "source": [
    "### Antithetic distribution method\n",
    " the method of antithetic random variable utilizes symmetrical characteristic of\n",
    "symmetry distribution. Here we will generate 4 identical distribution for calculatio of $\\pi$\n",
    "\n",
    "Consider $\\frac{1}{4}th$ part of the circle with x,y $\\in$ (0,1).\n",
    "From this part, area of the circle = $\\frac{\\pi}{4}$. Area of the square surrounding it = 1.\n",
    "Thus we can estimate the value of $\\pi$ from this setup using Monte Carlo.   \n",
    "\n",
    "Now Consider three other distributions between ((0,1),(0,-1)),((0,-1),(0,-1)),((0,-1),(0,1))\n",
    "Since the unit sphere is symmetrical in all four axis, All of the four distributions will give identical results. Thus all the datapoints can be assumed to be observed four times.\n",
    "\n",
    "This would help us in reducing variance.\n",
    "\n",
    "Not that we are currently only experimenting with high and low of uniform distribution\n"
   ]
  },
  {
   "cell_type": "code",
   "execution_count": 42,
   "metadata": {
    "ExecuteTime": {
     "end_time": "2020-06-12T23:49:52.661938Z",
     "start_time": "2020-06-12T23:49:52.657948Z"
    }
   },
   "outputs": [],
   "source": [
    "def getPointsAntithetic(shape):\n",
    "    return np.random.uniform(low=0.0,high =1.0,size=shape)"
   ]
  },
  {
   "cell_type": "code",
   "execution_count": 43,
   "metadata": {
    "ExecuteTime": {
     "end_time": "2020-06-12T23:49:53.591365Z",
     "start_time": "2020-06-12T23:49:53.583429Z"
    }
   },
   "outputs": [],
   "source": [
    "def monteCarloAntithetic(n, dim, m=50):\n",
    "    k  = n/m\n",
    "    dist = np.zeros(m)\n",
    "    cubeVolume = 1.0\n",
    "    for i in range(m):\n",
    "        points = getPointsAntithetic((int(k),dim))\n",
    "        s = np.count_nonzero(np.sum( np.multiply(points,points), axis =1)<=1.0)\n",
    "        dist[i]= s*cubeVolume/k\n",
    "    dist = np.hstack((dist, dist))\n",
    "    dist = np.hstack((dist, dist))\n",
    "    return clt(dist)"
   ]
  },
  {
   "cell_type": "code",
   "execution_count": 49,
   "metadata": {
    "ExecuteTime": {
     "end_time": "2020-06-12T23:59:45.086707Z",
     "start_time": "2020-06-12T23:59:00.101143Z"
    }
   },
   "outputs": [
    {
     "name": "stdout",
     "output_type": "stream",
     "text": [
      "3.1415269479999997 1.5822513240115787e-05\n"
     ]
    }
   ],
   "source": [
    "pieby4,acc = monteCarloAntithetic(10**9,2,70)\n",
    "print(pieby4*4,acc)"
   ]
  },
  {
   "cell_type": "markdown",
   "metadata": {},
   "source": [
    "We observe that accuracy has improve by a factor of 2 on using antithetic variables."
   ]
  },
  {
   "cell_type": "code",
   "execution_count": null,
   "metadata": {},
   "outputs": [],
   "source": []
  }
 ],
 "metadata": {
  "kernelspec": {
   "display_name": "Python 3",
   "language": "python",
   "name": "python3"
  },
  "language_info": {
   "codemirror_mode": {
    "name": "ipython",
    "version": 3
   },
   "file_extension": ".py",
   "mimetype": "text/x-python",
   "name": "python",
   "nbconvert_exporter": "python",
   "pygments_lexer": "ipython3",
   "version": "3.7.3"
  },
  "varInspector": {
   "cols": {
    "lenName": 16,
    "lenType": 16,
    "lenVar": 40
   },
   "kernels_config": {
    "python": {
     "delete_cmd_postfix": "",
     "delete_cmd_prefix": "del ",
     "library": "var_list.py",
     "varRefreshCmd": "print(var_dic_list())"
    },
    "r": {
     "delete_cmd_postfix": ") ",
     "delete_cmd_prefix": "rm(",
     "library": "var_list.r",
     "varRefreshCmd": "cat(var_dic_list()) "
    }
   },
   "types_to_exclude": [
    "module",
    "function",
    "builtin_function_or_method",
    "instance",
    "_Feature"
   ],
   "window_display": false
  }
 },
 "nbformat": 4,
 "nbformat_minor": 4
}
